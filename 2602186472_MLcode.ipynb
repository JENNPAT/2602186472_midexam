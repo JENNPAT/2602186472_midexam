{
 "cells": [
  {
   "cell_type": "raw",
   "id": "f13de1f6",
   "metadata": {},
   "source": [
    "name: Jennifer Patricia\n",
    "NIM: 2602186472\n",
    "class: LB09"
   ]
  },
  {
   "cell_type": "code",
   "execution_count": 1,
   "id": "1bb2ad94",
   "metadata": {},
   "outputs": [],
   "source": [
    "import numpy as np\n",
    "import seaborn as sns\n",
    "import matplotlib.pyplot as plt\n",
    "import pandas as pd"
   ]
  },
  {
   "cell_type": "code",
   "execution_count": 2,
   "id": "9f6327d4",
   "metadata": {},
   "outputs": [],
   "source": [
    "from sklearn.model_selection import train_test_split\n",
    "from sklearn.model_selection import GridSearchCV\n",
    "from sklearn.metrics import classification_report\n",
    "from sklearn import preprocessing"
   ]
  },
  {
   "cell_type": "code",
   "execution_count": 3,
   "id": "51246612",
   "metadata": {},
   "outputs": [
    {
     "data": {
      "text/html": [
       "<div>\n",
       "<style scoped>\n",
       "    .dataframe tbody tr th:only-of-type {\n",
       "        vertical-align: middle;\n",
       "    }\n",
       "\n",
       "    .dataframe tbody tr th {\n",
       "        vertical-align: top;\n",
       "    }\n",
       "\n",
       "    .dataframe thead th {\n",
       "        text-align: right;\n",
       "    }\n",
       "</style>\n",
       "<table border=\"1\" class=\"dataframe\">\n",
       "  <thead>\n",
       "    <tr style=\"text-align: right;\">\n",
       "      <th></th>\n",
       "      <th>Unnamed: 0</th>\n",
       "      <th>id</th>\n",
       "      <th>CustomerId</th>\n",
       "      <th>Surname</th>\n",
       "      <th>CreditScore</th>\n",
       "      <th>Geography</th>\n",
       "      <th>Gender</th>\n",
       "      <th>Age</th>\n",
       "      <th>Tenure</th>\n",
       "      <th>Balance</th>\n",
       "      <th>NumOfProducts</th>\n",
       "      <th>HasCrCard</th>\n",
       "      <th>IsActiveMember</th>\n",
       "      <th>EstimatedSalary</th>\n",
       "      <th>churn</th>\n",
       "    </tr>\n",
       "  </thead>\n",
       "  <tbody>\n",
       "    <tr>\n",
       "      <th>0</th>\n",
       "      <td>0</td>\n",
       "      <td>106473</td>\n",
       "      <td>15639576</td>\n",
       "      <td>Sarratt</td>\n",
       "      <td>652.0</td>\n",
       "      <td>France</td>\n",
       "      <td>Female</td>\n",
       "      <td>65.0</td>\n",
       "      <td>3</td>\n",
       "      <td>0.00</td>\n",
       "      <td>2</td>\n",
       "      <td>1</td>\n",
       "      <td>1</td>\n",
       "      <td>136592.24</td>\n",
       "      <td>0</td>\n",
       "    </tr>\n",
       "    <tr>\n",
       "      <th>1</th>\n",
       "      <td>1</td>\n",
       "      <td>62345</td>\n",
       "      <td>15769582</td>\n",
       "      <td>Hanson</td>\n",
       "      <td>464.0</td>\n",
       "      <td>France</td>\n",
       "      <td>Male</td>\n",
       "      <td>35.0</td>\n",
       "      <td>4</td>\n",
       "      <td>0.00</td>\n",
       "      <td>1</td>\n",
       "      <td>0</td>\n",
       "      <td>0</td>\n",
       "      <td>99505.75</td>\n",
       "      <td>1</td>\n",
       "    </tr>\n",
       "    <tr>\n",
       "      <th>2</th>\n",
       "      <td>2</td>\n",
       "      <td>126615</td>\n",
       "      <td>15675888</td>\n",
       "      <td>Austin</td>\n",
       "      <td>620.0</td>\n",
       "      <td>Germany</td>\n",
       "      <td>Female</td>\n",
       "      <td>39.0</td>\n",
       "      <td>6</td>\n",
       "      <td>129401.87</td>\n",
       "      <td>2</td>\n",
       "      <td>1</td>\n",
       "      <td>1</td>\n",
       "      <td>102681.32</td>\n",
       "      <td>1</td>\n",
       "    </tr>\n",
       "    <tr>\n",
       "      <th>3</th>\n",
       "      <td>3</td>\n",
       "      <td>35909</td>\n",
       "      <td>15786617</td>\n",
       "      <td>Tuan</td>\n",
       "      <td>598.0</td>\n",
       "      <td>France</td>\n",
       "      <td>Female</td>\n",
       "      <td>30.0</td>\n",
       "      <td>7</td>\n",
       "      <td>0.00</td>\n",
       "      <td>2</td>\n",
       "      <td>1</td>\n",
       "      <td>0</td>\n",
       "      <td>141210.18</td>\n",
       "      <td>0</td>\n",
       "    </tr>\n",
       "    <tr>\n",
       "      <th>4</th>\n",
       "      <td>4</td>\n",
       "      <td>45175</td>\n",
       "      <td>15757310</td>\n",
       "      <td>Li Fonti</td>\n",
       "      <td>682.0</td>\n",
       "      <td>Germany</td>\n",
       "      <td>Female</td>\n",
       "      <td>46.0</td>\n",
       "      <td>4</td>\n",
       "      <td>107720.57</td>\n",
       "      <td>1</td>\n",
       "      <td>0</td>\n",
       "      <td>0</td>\n",
       "      <td>93832.33</td>\n",
       "      <td>1</td>\n",
       "    </tr>\n",
       "  </tbody>\n",
       "</table>\n",
       "</div>"
      ],
      "text/plain": [
       "   Unnamed: 0      id  CustomerId   Surname  CreditScore Geography  Gender  \\\n",
       "0           0  106473    15639576   Sarratt        652.0    France  Female   \n",
       "1           1   62345    15769582    Hanson        464.0    France    Male   \n",
       "2           2  126615    15675888    Austin        620.0   Germany  Female   \n",
       "3           3   35909    15786617      Tuan        598.0    France  Female   \n",
       "4           4   45175    15757310  Li Fonti        682.0   Germany  Female   \n",
       "\n",
       "    Age  Tenure    Balance  NumOfProducts  HasCrCard  IsActiveMember  \\\n",
       "0  65.0       3       0.00              2          1               1   \n",
       "1  35.0       4       0.00              1          0               0   \n",
       "2  39.0       6  129401.87              2          1               1   \n",
       "3  30.0       7       0.00              2          1               0   \n",
       "4  46.0       4  107720.57              1          0               0   \n",
       "\n",
       "   EstimatedSalary  churn  \n",
       "0        136592.24      0  \n",
       "1         99505.75      1  \n",
       "2        102681.32      1  \n",
       "3        141210.18      0  \n",
       "4         93832.33      1  "
      ]
     },
     "execution_count": 3,
     "metadata": {},
     "output_type": "execute_result"
    }
   ],
   "source": [
    "df = pd.read_csv(\"data_D.csv\")\n",
    "df.head()"
   ]
  },
  {
   "cell_type": "markdown",
   "id": "22273a1b",
   "metadata": {},
   "source": [
    "# Data Cleaning"
   ]
  },
  {
   "cell_type": "code",
   "execution_count": 4,
   "id": "526e3aa0",
   "metadata": {},
   "outputs": [
    {
     "name": "stdout",
     "output_type": "stream",
     "text": [
      "<class 'pandas.core.frame.DataFrame'>\n",
      "RangeIndex: 41259 entries, 0 to 41258\n",
      "Data columns (total 15 columns):\n",
      " #   Column           Non-Null Count  Dtype  \n",
      "---  ------           --------------  -----  \n",
      " 0   Unnamed: 0       41259 non-null  int64  \n",
      " 1   id               41259 non-null  int64  \n",
      " 2   CustomerId       41259 non-null  int64  \n",
      " 3   Surname          41259 non-null  object \n",
      " 4   CreditScore      41251 non-null  float64\n",
      " 5   Geography        41259 non-null  object \n",
      " 6   Gender           41259 non-null  object \n",
      " 7   Age              41259 non-null  float64\n",
      " 8   Tenure           41259 non-null  int64  \n",
      " 9   Balance          41259 non-null  float64\n",
      " 10  NumOfProducts    41259 non-null  int64  \n",
      " 11  HasCrCard        41259 non-null  int64  \n",
      " 12  IsActiveMember   41259 non-null  int64  \n",
      " 13  EstimatedSalary  41259 non-null  float64\n",
      " 14  churn            41259 non-null  int64  \n",
      "dtypes: float64(4), int64(8), object(3)\n",
      "memory usage: 4.7+ MB\n"
     ]
    }
   ],
   "source": [
    "df.info()\n",
    "#theres a null column which is \"CreditScore\""
   ]
  },
  {
   "cell_type": "markdown",
   "id": "eb465725",
   "metadata": {},
   "source": [
    "### fill in empty values"
   ]
  },
  {
   "cell_type": "code",
   "execution_count": 5,
   "id": "15eb17ee",
   "metadata": {},
   "outputs": [
    {
     "name": "stdout",
     "output_type": "stream",
     "text": [
      "<class 'pandas.core.frame.DataFrame'>\n",
      "RangeIndex: 41259 entries, 0 to 41258\n",
      "Data columns (total 15 columns):\n",
      " #   Column           Non-Null Count  Dtype  \n",
      "---  ------           --------------  -----  \n",
      " 0   Unnamed: 0       41259 non-null  int64  \n",
      " 1   id               41259 non-null  int64  \n",
      " 2   CustomerId       41259 non-null  int64  \n",
      " 3   Surname          41259 non-null  object \n",
      " 4   CreditScore      41259 non-null  float64\n",
      " 5   Geography        41259 non-null  object \n",
      " 6   Gender           41259 non-null  object \n",
      " 7   Age              41259 non-null  float64\n",
      " 8   Tenure           41259 non-null  int64  \n",
      " 9   Balance          41259 non-null  float64\n",
      " 10  NumOfProducts    41259 non-null  int64  \n",
      " 11  HasCrCard        41259 non-null  int64  \n",
      " 12  IsActiveMember   41259 non-null  int64  \n",
      " 13  EstimatedSalary  41259 non-null  float64\n",
      " 14  churn            41259 non-null  int64  \n",
      "dtypes: float64(4), int64(8), object(3)\n",
      "memory usage: 4.7+ MB\n"
     ]
    }
   ],
   "source": [
    "df[\"CreditScore\"] = df[\"CreditScore\"].fillna(df[\"CreditScore\"].mean())\n",
    "df.info()"
   ]
  },
  {
   "cell_type": "markdown",
   "id": "4008bc82",
   "metadata": {},
   "source": [
    "### checking duplicated values"
   ]
  },
  {
   "cell_type": "code",
   "execution_count": 6,
   "id": "59fdb69a",
   "metadata": {},
   "outputs": [
    {
     "data": {
      "text/plain": [
       "0"
      ]
     },
     "execution_count": 6,
     "metadata": {},
     "output_type": "execute_result"
    }
   ],
   "source": [
    "df.duplicated().sum()\n",
    "# no duplicated rows"
   ]
  },
  {
   "cell_type": "markdown",
   "id": "8d78cd62",
   "metadata": {},
   "source": [
    "### removing some unecessary columns"
   ]
  },
  {
   "cell_type": "code",
   "execution_count": 7,
   "id": "9b7e2bac",
   "metadata": {},
   "outputs": [
    {
     "data": {
      "text/html": [
       "<div>\n",
       "<style scoped>\n",
       "    .dataframe tbody tr th:only-of-type {\n",
       "        vertical-align: middle;\n",
       "    }\n",
       "\n",
       "    .dataframe tbody tr th {\n",
       "        vertical-align: top;\n",
       "    }\n",
       "\n",
       "    .dataframe thead th {\n",
       "        text-align: right;\n",
       "    }\n",
       "</style>\n",
       "<table border=\"1\" class=\"dataframe\">\n",
       "  <thead>\n",
       "    <tr style=\"text-align: right;\">\n",
       "      <th></th>\n",
       "      <th>CreditScore</th>\n",
       "      <th>Geography</th>\n",
       "      <th>Gender</th>\n",
       "      <th>Age</th>\n",
       "      <th>Tenure</th>\n",
       "      <th>Balance</th>\n",
       "      <th>NumOfProducts</th>\n",
       "      <th>HasCrCard</th>\n",
       "      <th>IsActiveMember</th>\n",
       "      <th>EstimatedSalary</th>\n",
       "      <th>churn</th>\n",
       "    </tr>\n",
       "  </thead>\n",
       "  <tbody>\n",
       "    <tr>\n",
       "      <th>0</th>\n",
       "      <td>652.0</td>\n",
       "      <td>France</td>\n",
       "      <td>Female</td>\n",
       "      <td>65.0</td>\n",
       "      <td>3</td>\n",
       "      <td>0.00</td>\n",
       "      <td>2</td>\n",
       "      <td>1</td>\n",
       "      <td>1</td>\n",
       "      <td>136592.24</td>\n",
       "      <td>0</td>\n",
       "    </tr>\n",
       "    <tr>\n",
       "      <th>1</th>\n",
       "      <td>464.0</td>\n",
       "      <td>France</td>\n",
       "      <td>Male</td>\n",
       "      <td>35.0</td>\n",
       "      <td>4</td>\n",
       "      <td>0.00</td>\n",
       "      <td>1</td>\n",
       "      <td>0</td>\n",
       "      <td>0</td>\n",
       "      <td>99505.75</td>\n",
       "      <td>1</td>\n",
       "    </tr>\n",
       "    <tr>\n",
       "      <th>2</th>\n",
       "      <td>620.0</td>\n",
       "      <td>Germany</td>\n",
       "      <td>Female</td>\n",
       "      <td>39.0</td>\n",
       "      <td>6</td>\n",
       "      <td>129401.87</td>\n",
       "      <td>2</td>\n",
       "      <td>1</td>\n",
       "      <td>1</td>\n",
       "      <td>102681.32</td>\n",
       "      <td>1</td>\n",
       "    </tr>\n",
       "    <tr>\n",
       "      <th>3</th>\n",
       "      <td>598.0</td>\n",
       "      <td>France</td>\n",
       "      <td>Female</td>\n",
       "      <td>30.0</td>\n",
       "      <td>7</td>\n",
       "      <td>0.00</td>\n",
       "      <td>2</td>\n",
       "      <td>1</td>\n",
       "      <td>0</td>\n",
       "      <td>141210.18</td>\n",
       "      <td>0</td>\n",
       "    </tr>\n",
       "    <tr>\n",
       "      <th>4</th>\n",
       "      <td>682.0</td>\n",
       "      <td>Germany</td>\n",
       "      <td>Female</td>\n",
       "      <td>46.0</td>\n",
       "      <td>4</td>\n",
       "      <td>107720.57</td>\n",
       "      <td>1</td>\n",
       "      <td>0</td>\n",
       "      <td>0</td>\n",
       "      <td>93832.33</td>\n",
       "      <td>1</td>\n",
       "    </tr>\n",
       "  </tbody>\n",
       "</table>\n",
       "</div>"
      ],
      "text/plain": [
       "   CreditScore Geography  Gender   Age  Tenure    Balance  NumOfProducts  \\\n",
       "0        652.0    France  Female  65.0       3       0.00              2   \n",
       "1        464.0    France    Male  35.0       4       0.00              1   \n",
       "2        620.0   Germany  Female  39.0       6  129401.87              2   \n",
       "3        598.0    France  Female  30.0       7       0.00              2   \n",
       "4        682.0   Germany  Female  46.0       4  107720.57              1   \n",
       "\n",
       "   HasCrCard  IsActiveMember  EstimatedSalary  churn  \n",
       "0          1               1        136592.24      0  \n",
       "1          0               0         99505.75      1  \n",
       "2          1               1        102681.32      1  \n",
       "3          1               0        141210.18      0  \n",
       "4          0               0         93832.33      1  "
      ]
     },
     "execution_count": 7,
     "metadata": {},
     "output_type": "execute_result"
    }
   ],
   "source": [
    "df.drop(columns=[\"Unnamed: 0\",\"id\",\"CustomerId\",\"Surname\"], inplace=True)\n",
    "df.head()  "
   ]
  },
  {
   "cell_type": "markdown",
   "id": "f16ae2f1",
   "metadata": {},
   "source": [
    "### cardinality checking"
   ]
  },
  {
   "cell_type": "code",
   "execution_count": 82,
   "id": "5fc8bc15",
   "metadata": {},
   "outputs": [
    {
     "data": {
      "text/plain": [
       "[2     4588\n",
       " 4     4442\n",
       " 7     4431\n",
       " 5     4291\n",
       " 8     4232\n",
       " 3     4231\n",
       " 1     4177\n",
       " 9     4173\n",
       " 6     3970\n",
       " 10    1474\n",
       " 0     1250\n",
       " Name: Tenure, dtype: int64,\n",
       " 2    21132\n",
       " 1    19316\n",
       " 3      694\n",
       " 4      117\n",
       " Name: NumOfProducts, dtype: int64,\n",
       " 1    31126\n",
       " 0    10133\n",
       " Name: HasCrCard, dtype: int64,\n",
       " 0    20767\n",
       " 1    20492\n",
       " Name: IsActiveMember, dtype: int64,\n",
       " 0    32540\n",
       " 1     8719\n",
       " Name: churn, dtype: int64,\n",
       " France     23520\n",
       " Spain       9081\n",
       " Germany     8658\n",
       " Name: Geography, dtype: int64,\n",
       " Male      23166\n",
       " Female    18093\n",
       " Name: Gender, dtype: int64]"
      ]
     },
     "execution_count": 82,
     "metadata": {},
     "output_type": "execute_result"
    }
   ],
   "source": [
    "discrete_columns = [\"Tenure\", \"NumOfProducts\", \"HasCrCard\", \"IsActiveMember\", \"churn\"]\n",
    "discrete_columns.extend(df.select_dtypes(\"object\").columns.tolist())\n",
    "\n",
    "unique = [df[name].value_counts() for name in discrete_columns]\n",
    "unique"
   ]
  },
  {
   "cell_type": "markdown",
   "id": "5c9d954b",
   "metadata": {},
   "source": [
    "- there's no typo\n",
    "- from here we can see that there're some imbalance in variables \"HasCrCard\" and \"churn\""
   ]
  },
  {
   "cell_type": "markdown",
   "id": "0a06f4de",
   "metadata": {},
   "source": [
    "### checking some error values by its range\n",
    "eg: error values like minus for column \"Age\""
   ]
  },
  {
   "cell_type": "code",
   "execution_count": 83,
   "id": "461b1c91",
   "metadata": {},
   "outputs": [
    {
     "name": "stdout",
     "output_type": "stream",
     "text": [
      "the range of col-CreditScore uis between 350.0 to 850.0\n",
      "the range of col-Age uis between 18.0 to 92.0\n",
      "the range of col-Tenure uis between 0 to 10\n",
      "the range of col-Balance uis between 0.0 to 250898.09\n",
      "the range of col-NumOfProducts uis between 1 to 4\n",
      "the range of col-HasCrCard uis between 0 to 1\n",
      "the range of col-IsActiveMember uis between 0 to 1\n",
      "the range of col-EstimatedSalary uis between 11.58 to 199992.48\n",
      "the range of col-churn uis between 0 to 1\n"
     ]
    }
   ],
   "source": [
    "for col in df.select_dtypes(include=\"number\").columns:\n",
    "    print(f\"the range of col-{col} uis between {df[col].min()} to {df[col].max()}\")\n",
    "    \n",
    "#there's no error value"
   ]
  },
  {
   "cell_type": "markdown",
   "id": "7ea638c2",
   "metadata": {},
   "source": [
    "### Checking Outliers\n",
    "i dont include both of the imbalance variables bcs it will detect that the minority values are all outliers"
   ]
  },
  {
   "cell_type": "code",
   "execution_count": 85,
   "id": "2cb5e8dd",
   "metadata": {},
   "outputs": [
    {
     "name": "stdout",
     "output_type": "stream",
     "text": [
      "CreditScore: 76\n",
      "Age: 1560\n",
      "Tenure: 0\n",
      "Balance: 0\n",
      "NumOfProducts: 117\n",
      "IsActiveMember: 0\n",
      "EstimatedSalary: 0\n",
      "total number of the outliers is 1735\n"
     ]
    }
   ],
   "source": [
    "df_clean = df.copy()\n",
    "\n",
    "for col in df.select_dtypes(\"number\").columns:\n",
    "    if col not in [\"HasCrCard\",\"churn\"]:\n",
    "        q1 = df[col].quantile(0.25)\n",
    "        q3 = df[col].quantile(0.75)\n",
    "        IQR = q3 - q1\n",
    "        outliers = df[(df[col] < (q1- 1.5*IQR)) | (df[col] > (q3 + 1.5*IQR))]\n",
    "        df_clean = df_clean[~df_clean.index.isin(outliers.index)]\n",
    "        print(f\"{col}: {len(outliers)}\")\n",
    "\n",
    "print(f\"total number of the outliers is {len(df)-len(df_clean)}\")"
   ]
  },
  {
   "cell_type": "code",
   "execution_count": 86,
   "id": "51301927",
   "metadata": {},
   "outputs": [
    {
     "data": {
      "text/plain": [
       "39524"
      ]
     },
     "execution_count": 86,
     "metadata": {},
     "output_type": "execute_result"
    }
   ],
   "source": [
    "len(df_clean)"
   ]
  },
  {
   "cell_type": "markdown",
   "id": "7fd6cfa8",
   "metadata": {},
   "source": [
    "# Feature Encoding"
   ]
  },
  {
   "cell_type": "code",
   "execution_count": 87,
   "id": "50dc3a97",
   "metadata": {},
   "outputs": [
    {
     "name": "stdout",
     "output_type": "stream",
     "text": [
      "Geography= {'France': 0, 'Germany': 1, 'Spain': 2}\n",
      "Gender= {'Female': 0, 'Male': 1}\n"
     ]
    }
   ],
   "source": [
    "label_encoder = preprocessing.LabelEncoder()\n",
    "label = {}\n",
    "for col in df.select_dtypes(\"object\"):\n",
    "    df[col] = label_encoder.fit_transform(df[col])\n",
    "    label[col] = dict(zip(label_encoder.classes_, label_encoder.transform(label_encoder.classes_)))\n",
    "    print(f\"{col}= {label[col]}\")"
   ]
  },
  {
   "cell_type": "code",
   "execution_count": 88,
   "id": "365a87fc",
   "metadata": {},
   "outputs": [
    {
     "data": {
      "text/html": [
       "<div>\n",
       "<style scoped>\n",
       "    .dataframe tbody tr th:only-of-type {\n",
       "        vertical-align: middle;\n",
       "    }\n",
       "\n",
       "    .dataframe tbody tr th {\n",
       "        vertical-align: top;\n",
       "    }\n",
       "\n",
       "    .dataframe thead th {\n",
       "        text-align: right;\n",
       "    }\n",
       "</style>\n",
       "<table border=\"1\" class=\"dataframe\">\n",
       "  <thead>\n",
       "    <tr style=\"text-align: right;\">\n",
       "      <th></th>\n",
       "      <th>CreditScore</th>\n",
       "      <th>Geography</th>\n",
       "      <th>Gender</th>\n",
       "      <th>Age</th>\n",
       "      <th>Tenure</th>\n",
       "      <th>Balance</th>\n",
       "      <th>NumOfProducts</th>\n",
       "      <th>HasCrCard</th>\n",
       "      <th>IsActiveMember</th>\n",
       "      <th>EstimatedSalary</th>\n",
       "      <th>churn</th>\n",
       "    </tr>\n",
       "  </thead>\n",
       "  <tbody>\n",
       "    <tr>\n",
       "      <th>0</th>\n",
       "      <td>652.0</td>\n",
       "      <td>0</td>\n",
       "      <td>0</td>\n",
       "      <td>65.0</td>\n",
       "      <td>3</td>\n",
       "      <td>0.00</td>\n",
       "      <td>2</td>\n",
       "      <td>1</td>\n",
       "      <td>1</td>\n",
       "      <td>136592.24</td>\n",
       "      <td>0</td>\n",
       "    </tr>\n",
       "    <tr>\n",
       "      <th>1</th>\n",
       "      <td>464.0</td>\n",
       "      <td>0</td>\n",
       "      <td>1</td>\n",
       "      <td>35.0</td>\n",
       "      <td>4</td>\n",
       "      <td>0.00</td>\n",
       "      <td>1</td>\n",
       "      <td>0</td>\n",
       "      <td>0</td>\n",
       "      <td>99505.75</td>\n",
       "      <td>1</td>\n",
       "    </tr>\n",
       "    <tr>\n",
       "      <th>2</th>\n",
       "      <td>620.0</td>\n",
       "      <td>1</td>\n",
       "      <td>0</td>\n",
       "      <td>39.0</td>\n",
       "      <td>6</td>\n",
       "      <td>129401.87</td>\n",
       "      <td>2</td>\n",
       "      <td>1</td>\n",
       "      <td>1</td>\n",
       "      <td>102681.32</td>\n",
       "      <td>1</td>\n",
       "    </tr>\n",
       "    <tr>\n",
       "      <th>3</th>\n",
       "      <td>598.0</td>\n",
       "      <td>0</td>\n",
       "      <td>0</td>\n",
       "      <td>30.0</td>\n",
       "      <td>7</td>\n",
       "      <td>0.00</td>\n",
       "      <td>2</td>\n",
       "      <td>1</td>\n",
       "      <td>0</td>\n",
       "      <td>141210.18</td>\n",
       "      <td>0</td>\n",
       "    </tr>\n",
       "    <tr>\n",
       "      <th>4</th>\n",
       "      <td>682.0</td>\n",
       "      <td>1</td>\n",
       "      <td>0</td>\n",
       "      <td>46.0</td>\n",
       "      <td>4</td>\n",
       "      <td>107720.57</td>\n",
       "      <td>1</td>\n",
       "      <td>0</td>\n",
       "      <td>0</td>\n",
       "      <td>93832.33</td>\n",
       "      <td>1</td>\n",
       "    </tr>\n",
       "  </tbody>\n",
       "</table>\n",
       "</div>"
      ],
      "text/plain": [
       "   CreditScore  Geography  Gender   Age  Tenure    Balance  NumOfProducts  \\\n",
       "0        652.0          0       0  65.0       3       0.00              2   \n",
       "1        464.0          0       1  35.0       4       0.00              1   \n",
       "2        620.0          1       0  39.0       6  129401.87              2   \n",
       "3        598.0          0       0  30.0       7       0.00              2   \n",
       "4        682.0          1       0  46.0       4  107720.57              1   \n",
       "\n",
       "   HasCrCard  IsActiveMember  EstimatedSalary  churn  \n",
       "0          1               1        136592.24      0  \n",
       "1          0               0         99505.75      1  \n",
       "2          1               1        102681.32      1  \n",
       "3          1               0        141210.18      0  \n",
       "4          0               0         93832.33      1  "
      ]
     },
     "execution_count": 88,
     "metadata": {},
     "output_type": "execute_result"
    }
   ],
   "source": [
    "df.head()"
   ]
  },
  {
   "cell_type": "code",
   "execution_count": 89,
   "id": "8fe60926",
   "metadata": {},
   "outputs": [
    {
     "name": "stdout",
     "output_type": "stream",
     "text": [
      "Geography= {'France': 0, 'Germany': 1, 'Spain': 2}\n",
      "Gender= {'Female': 0, 'Male': 1}\n"
     ]
    }
   ],
   "source": [
    "label_encoder = preprocessing.LabelEncoder()\n",
    "label = {}\n",
    "for col in df_clean.select_dtypes(\"object\"):\n",
    "    df_clean[col] = label_encoder.fit_transform(df_clean[col])\n",
    "    label[col] = dict(zip(label_encoder.classes_, label_encoder.transform(label_encoder.classes_)))\n",
    "    print(f\"{col}= {label[col]}\")"
   ]
  },
  {
   "cell_type": "code",
   "execution_count": 71,
   "id": "c778d00a",
   "metadata": {},
   "outputs": [
    {
     "data": {
      "text/html": [
       "<div>\n",
       "<style scoped>\n",
       "    .dataframe tbody tr th:only-of-type {\n",
       "        vertical-align: middle;\n",
       "    }\n",
       "\n",
       "    .dataframe tbody tr th {\n",
       "        vertical-align: top;\n",
       "    }\n",
       "\n",
       "    .dataframe thead th {\n",
       "        text-align: right;\n",
       "    }\n",
       "</style>\n",
       "<table border=\"1\" class=\"dataframe\">\n",
       "  <thead>\n",
       "    <tr style=\"text-align: right;\">\n",
       "      <th></th>\n",
       "      <th>CreditScore</th>\n",
       "      <th>Geography</th>\n",
       "      <th>Gender</th>\n",
       "      <th>Age</th>\n",
       "      <th>Tenure</th>\n",
       "      <th>Balance</th>\n",
       "      <th>NumOfProducts</th>\n",
       "      <th>HasCrCard</th>\n",
       "      <th>IsActiveMember</th>\n",
       "      <th>EstimatedSalary</th>\n",
       "      <th>churn</th>\n",
       "    </tr>\n",
       "  </thead>\n",
       "  <tbody>\n",
       "    <tr>\n",
       "      <th>1</th>\n",
       "      <td>464.0</td>\n",
       "      <td>0</td>\n",
       "      <td>1</td>\n",
       "      <td>35.0</td>\n",
       "      <td>4</td>\n",
       "      <td>0.00</td>\n",
       "      <td>1</td>\n",
       "      <td>0</td>\n",
       "      <td>0</td>\n",
       "      <td>99505.75</td>\n",
       "      <td>1</td>\n",
       "    </tr>\n",
       "    <tr>\n",
       "      <th>2</th>\n",
       "      <td>620.0</td>\n",
       "      <td>1</td>\n",
       "      <td>0</td>\n",
       "      <td>39.0</td>\n",
       "      <td>6</td>\n",
       "      <td>129401.87</td>\n",
       "      <td>2</td>\n",
       "      <td>1</td>\n",
       "      <td>1</td>\n",
       "      <td>102681.32</td>\n",
       "      <td>1</td>\n",
       "    </tr>\n",
       "    <tr>\n",
       "      <th>3</th>\n",
       "      <td>598.0</td>\n",
       "      <td>0</td>\n",
       "      <td>0</td>\n",
       "      <td>30.0</td>\n",
       "      <td>7</td>\n",
       "      <td>0.00</td>\n",
       "      <td>2</td>\n",
       "      <td>1</td>\n",
       "      <td>0</td>\n",
       "      <td>141210.18</td>\n",
       "      <td>0</td>\n",
       "    </tr>\n",
       "    <tr>\n",
       "      <th>4</th>\n",
       "      <td>682.0</td>\n",
       "      <td>1</td>\n",
       "      <td>0</td>\n",
       "      <td>46.0</td>\n",
       "      <td>4</td>\n",
       "      <td>107720.57</td>\n",
       "      <td>1</td>\n",
       "      <td>0</td>\n",
       "      <td>0</td>\n",
       "      <td>93832.33</td>\n",
       "      <td>1</td>\n",
       "    </tr>\n",
       "    <tr>\n",
       "      <th>5</th>\n",
       "      <td>746.0</td>\n",
       "      <td>0</td>\n",
       "      <td>0</td>\n",
       "      <td>24.0</td>\n",
       "      <td>1</td>\n",
       "      <td>0.00</td>\n",
       "      <td>2</td>\n",
       "      <td>0</td>\n",
       "      <td>0</td>\n",
       "      <td>130142.42</td>\n",
       "      <td>0</td>\n",
       "    </tr>\n",
       "  </tbody>\n",
       "</table>\n",
       "</div>"
      ],
      "text/plain": [
       "   CreditScore  Geography  Gender   Age  Tenure    Balance  NumOfProducts  \\\n",
       "1        464.0          0       1  35.0       4       0.00              1   \n",
       "2        620.0          1       0  39.0       6  129401.87              2   \n",
       "3        598.0          0       0  30.0       7       0.00              2   \n",
       "4        682.0          1       0  46.0       4  107720.57              1   \n",
       "5        746.0          0       0  24.0       1       0.00              2   \n",
       "\n",
       "   HasCrCard  IsActiveMember  EstimatedSalary  churn  \n",
       "1          0               0         99505.75      1  \n",
       "2          1               1        102681.32      1  \n",
       "3          1               0        141210.18      0  \n",
       "4          0               0         93832.33      1  \n",
       "5          0               0        130142.42      0  "
      ]
     },
     "execution_count": 71,
     "metadata": {},
     "output_type": "execute_result"
    }
   ],
   "source": [
    "df_clean.head()"
   ]
  },
  {
   "cell_type": "markdown",
   "id": "61eadc6d",
   "metadata": {},
   "source": [
    "# Making models"
   ]
  },
  {
   "cell_type": "code",
   "execution_count": 91,
   "id": "315eef04",
   "metadata": {},
   "outputs": [],
   "source": [
    "from sklearn.ensemble import RandomForestClassifier\n",
    "from xgboost import XGBClassifier"
   ]
  },
  {
   "cell_type": "markdown",
   "id": "809ccefc",
   "metadata": {},
   "source": [
    "### original df"
   ]
  },
  {
   "cell_type": "code",
   "execution_count": 90,
   "id": "6c08e5cd",
   "metadata": {},
   "outputs": [],
   "source": [
    "input_df = df.drop(columns=\"churn\")\n",
    "output_df = df[\"churn\"]\n",
    "\n",
    "x_train,x_test,y_train,y_test = train_test_split(input_df, output_df, test_size=0.2, random_state=0)"
   ]
  },
  {
   "cell_type": "code",
   "execution_count": 93,
   "id": "3a7a07ad",
   "metadata": {},
   "outputs": [
    {
     "name": "stdout",
     "output_type": "stream",
     "text": [
      "Classfication Report\n",
      "               precision    recall  f1-score   support\n",
      "\n",
      "           0       0.88      0.94      0.91      6499\n",
      "           1       0.70      0.52      0.60      1753\n",
      "\n",
      "    accuracy                           0.85      8252\n",
      "   macro avg       0.79      0.73      0.75      8252\n",
      "weighted avg       0.84      0.85      0.84      8252\n",
      "\n"
     ]
    }
   ],
   "source": [
    "model1 = RandomForestClassifier()\n",
    "model1 = model1.fit(x_train, y_train)\n",
    "y_predict = model1.predict(x_test)\n",
    "\n",
    "print(\"Classfication Report\\n\", classification_report(y_test, y_predict))"
   ]
  },
  {
   "cell_type": "code",
   "execution_count": 95,
   "id": "784dc869",
   "metadata": {},
   "outputs": [
    {
     "name": "stdout",
     "output_type": "stream",
     "text": [
      "Classfication Report\n",
      "               precision    recall  f1-score   support\n",
      "\n",
      "           0       0.89      0.93      0.91      6499\n",
      "           1       0.69      0.55      0.61      1753\n",
      "\n",
      "    accuracy                           0.85      8252\n",
      "   macro avg       0.79      0.74      0.76      8252\n",
      "weighted avg       0.84      0.85      0.85      8252\n",
      "\n"
     ]
    }
   ],
   "source": [
    "model2 = XGBClassifier()\n",
    "model2 = model2.fit(x_train, y_train)\n",
    "y_predict = model2.predict(x_test)\n",
    "\n",
    "print(\"Classfication Report\\n\", classification_report(y_test, y_predict))"
   ]
  },
  {
   "cell_type": "markdown",
   "id": "02b32aa0",
   "metadata": {},
   "source": [
    "both models yield the same accuracy but the XGBClassifier model classifier yields a higher f1-score"
   ]
  },
  {
   "cell_type": "markdown",
   "id": "341290d5",
   "metadata": {},
   "source": [
    "### df_clean"
   ]
  },
  {
   "cell_type": "code",
   "execution_count": 97,
   "id": "f69ab8e7",
   "metadata": {},
   "outputs": [],
   "source": [
    "input_df = df_clean.drop(columns=\"churn\")\n",
    "output_df = df_clean[\"churn\"]\n",
    "x_train,x_test,y_train,y_test = train_test_split(input_df, output_df, test_size=0.2, random_state=0)"
   ]
  },
  {
   "cell_type": "code",
   "execution_count": 98,
   "id": "1166e48b",
   "metadata": {},
   "outputs": [
    {
     "name": "stdout",
     "output_type": "stream",
     "text": [
      "Classfication Report\n",
      "               precision    recall  f1-score   support\n",
      "\n",
      "           0       0.88      0.95      0.91      6295\n",
      "           1       0.72      0.49      0.58      1610\n",
      "\n",
      "    accuracy                           0.86      7905\n",
      "   macro avg       0.80      0.72      0.75      7905\n",
      "weighted avg       0.85      0.86      0.85      7905\n",
      "\n"
     ]
    }
   ],
   "source": [
    "model3 = RandomForestClassifier()\n",
    "model3 = model3.fit(x_train, y_train)\n",
    "y_predict = model3.predict(x_test)\n",
    "\n",
    "print(\"Classfication Report\\n\", classification_report(y_test, y_predict))"
   ]
  },
  {
   "cell_type": "code",
   "execution_count": 99,
   "id": "b0394340",
   "metadata": {},
   "outputs": [
    {
     "name": "stdout",
     "output_type": "stream",
     "text": [
      "Classfication Report\n",
      "               precision    recall  f1-score   support\n",
      "\n",
      "           0       0.88      0.95      0.91      6295\n",
      "           1       0.71      0.50      0.59      1610\n",
      "\n",
      "    accuracy                           0.86      7905\n",
      "   macro avg       0.80      0.73      0.75      7905\n",
      "weighted avg       0.85      0.86      0.85      7905\n",
      "\n"
     ]
    }
   ],
   "source": [
    "model4 = XGBClassifier()\n",
    "model4 = model4.fit(x_train, y_train)\n",
    "y_predict = model4.predict(x_test)\n",
    "\n",
    "print(\"Classfication Report\\n\", classification_report(y_test, y_predict))"
   ]
  },
  {
   "cell_type": "markdown",
   "id": "33217c45",
   "metadata": {},
   "source": [
    "- both models yield the same accuracy but the XGB model yields a higher f1-score\n",
    "- both models of df_cleaned yield higher accuracy than both models of original df but the f1-scores from df_cleaned models are lower\n",
    "- bcs this's an imbalance case, \"f1-score\" is the appropriate metric. So far model2 with XGBClassifier by original df is the best model"
   ]
  },
  {
   "cell_type": "markdown",
   "id": "eb73c373",
   "metadata": {},
   "source": [
    "# Tunning Parameters"
   ]
  },
  {
   "cell_type": "code",
   "execution_count": 129,
   "id": "4641b8be",
   "metadata": {},
   "outputs": [
    {
     "name": "stdout",
     "output_type": "stream",
     "text": [
      "Tuned Hyperparameters : {'criterion': 'entropy', 'max_depth': 8, 'max_features': 0.8}\n",
      "f1-score : 0.615775342368974\n"
     ]
    }
   ],
   "source": [
    "parameters = {\n",
    "    'criterion': ['gini', 'entropy'],\n",
    "    'max_depth':[2,4,6,8], \n",
    "    'max_features': ['sqrt', 0.3, 0.5, 0.8],\n",
    "}\n",
    "model = RandomForestClassifier()\n",
    "model_clf= GridSearchCV(model,\n",
    "                            param_grid = parameters,   \n",
    "                            scoring='f1',       \n",
    "                            cv=5)  \n",
    "model_clf.fit(x_train,y_train)\n",
    "print(\"Tuned Hyperparameters :\", model_clf.best_params_)\n",
    "print(\"f1-score :\",model_clf.best_score_)"
   ]
  },
  {
   "cell_type": "code",
   "execution_count": 121,
   "id": "2326acab",
   "metadata": {},
   "outputs": [
    {
     "name": "stdout",
     "output_type": "stream",
     "text": [
      "Tuned Hyperparameters : {'gamma': 0, 'max_depth': 3, 'n_estimators': 100}\n",
      "f1-score : 0.6115869427300563\n"
     ]
    }
   ],
   "source": [
    "parameters = {\n",
    "    'max_depth':[1, 3, 5, 7], \n",
    "    'n_estimators': [50, 100, 200,500],\n",
    "    'gamma': [0, 0.1, 0.2],\n",
    "}\n",
    "\n",
    "model = XGBClassifier()\n",
    "model_clf= GridSearchCV(model,\n",
    "                            param_grid = parameters,   \n",
    "                            scoring='f1',       \n",
    "                            cv=5)  \n",
    "model_clf.fit(x_train,y_train)\n",
    "print(\"Tuned Hyperparameters :\", model_clf.best_params_)\n",
    "print(\"f1-score :\",model_clf.best_score_)"
   ]
  },
  {
   "cell_type": "markdown",
   "id": "8e1f47d8",
   "metadata": {},
   "source": [
    "### original df"
   ]
  },
  {
   "cell_type": "code",
   "execution_count": 128,
   "id": "e5583255",
   "metadata": {},
   "outputs": [],
   "source": [
    "input_df = df.drop(columns=\"churn\")\n",
    "output_df = df[\"churn\"]\n",
    "\n",
    "x_train,x_test,y_train,y_test = train_test_split(input_df, output_df, test_size=0.2, random_state=0)"
   ]
  },
  {
   "cell_type": "code",
   "execution_count": 117,
   "id": "acabc669",
   "metadata": {},
   "outputs": [
    {
     "name": "stdout",
     "output_type": "stream",
     "text": [
      "Classfication Report\n",
      "               precision    recall  f1-score   support\n",
      "\n",
      "           0       0.88      0.95      0.91      6499\n",
      "           1       0.75      0.52      0.61      1753\n",
      "\n",
      "    accuracy                           0.86      8252\n",
      "   macro avg       0.81      0.74      0.76      8252\n",
      "weighted avg       0.85      0.86      0.85      8252\n",
      "\n"
     ]
    }
   ],
   "source": [
    "model5 = RandomForestClassifier(criterion= 'entropy', max_depth= 8, max_features= 0.8)\n",
    "model5 = model5.fit(x_train, y_train)\n",
    "y_predict = model5.predict(x_test)\n",
    "\n",
    "print(\"Classfication Report\\n\", classification_report(y_test, y_predict))"
   ]
  },
  {
   "cell_type": "code",
   "execution_count": 123,
   "id": "6cdd7f15",
   "metadata": {},
   "outputs": [
    {
     "name": "stdout",
     "output_type": "stream",
     "text": [
      "Classfication Report\n",
      "               precision    recall  f1-score   support\n",
      "\n",
      "           0       0.88      0.94      0.91      6499\n",
      "           1       0.72      0.54      0.62      1753\n",
      "\n",
      "    accuracy                           0.86      8252\n",
      "   macro avg       0.80      0.74      0.77      8252\n",
      "weighted avg       0.85      0.86      0.85      8252\n",
      "\n"
     ]
    }
   ],
   "source": [
    "model6 = XGBClassifier(gamma= 0, max_depth= 3, n_estimators = 100)\n",
    "rf_model = model6.fit(x_train, y_train)\n",
    "y_predict = model6.predict(x_test)\n",
    "\n",
    "print(\"Classfication Report\\n\", classification_report(y_test, y_predict))"
   ]
  },
  {
   "cell_type": "markdown",
   "id": "ee68f083",
   "metadata": {},
   "source": [
    "### df_cleaned"
   ]
  },
  {
   "cell_type": "code",
   "execution_count": 124,
   "id": "46aba3ba",
   "metadata": {},
   "outputs": [],
   "source": [
    "input_df = df_clean.drop(columns=\"churn\")\n",
    "output_df = df_clean[\"churn\"]\n",
    "x_train,x_test,y_train,y_test = train_test_split(input_df, output_df, test_size=0.2, random_state=0)"
   ]
  },
  {
   "cell_type": "code",
   "execution_count": 120,
   "id": "29734145",
   "metadata": {},
   "outputs": [
    {
     "name": "stdout",
     "output_type": "stream",
     "text": [
      "Classfication Report\n",
      "               precision    recall  f1-score   support\n",
      "\n",
      "           0       0.88      0.96      0.92      6295\n",
      "           1       0.75      0.50      0.60      1610\n",
      "\n",
      "    accuracy                           0.86      7905\n",
      "   macro avg       0.81      0.73      0.76      7905\n",
      "weighted avg       0.85      0.86      0.85      7905\n",
      "\n"
     ]
    }
   ],
   "source": [
    "model7 = RandomForestClassifier(criterion= 'entropy', max_depth= 8, max_features= 0.8)\n",
    "model7 = model7.fit(x_train, y_train)\n",
    "y_predict = model7.predict(x_test)\n",
    "\n",
    "print(\"Classfication Report\\n\", classification_report(y_test, y_predict))"
   ]
  },
  {
   "cell_type": "code",
   "execution_count": 125,
   "id": "c2f23895",
   "metadata": {},
   "outputs": [
    {
     "name": "stdout",
     "output_type": "stream",
     "text": [
      "Classfication Report\n",
      "               precision    recall  f1-score   support\n",
      "\n",
      "           0       0.88      0.96      0.92      6295\n",
      "           1       0.74      0.50      0.60      1610\n",
      "\n",
      "    accuracy                           0.86      7905\n",
      "   macro avg       0.81      0.73      0.76      7905\n",
      "weighted avg       0.85      0.86      0.85      7905\n",
      "\n"
     ]
    }
   ],
   "source": [
    "model8 = XGBClassifier(gamma= 0, max_depth= 3, n_estimators = 100)\n",
    "model8 = model8.fit(x_train, y_train)\n",
    "y_predict = model8.predict(x_test)\n",
    "\n",
    "print(\"Classfication Report\\n\", classification_report(y_test, y_predict))"
   ]
  },
  {
   "cell_type": "markdown",
   "id": "2a15fd28",
   "metadata": {},
   "source": [
    "## CONCLUSION:\n",
    "\n",
    "Based on the classification report results of the eight models, it can be concluded that model6 with the original dataframe using XGBClassifier is the best performing model with the highest f1-score among the two labels."
   ]
  }
 ],
 "metadata": {
  "kernelspec": {
   "display_name": "Python 3 (ipykernel)",
   "language": "python",
   "name": "python3"
  },
  "language_info": {
   "codemirror_mode": {
    "name": "ipython",
    "version": 3
   },
   "file_extension": ".py",
   "mimetype": "text/x-python",
   "name": "python",
   "nbconvert_exporter": "python",
   "pygments_lexer": "ipython3",
   "version": "3.9.13"
  }
 },
 "nbformat": 4,
 "nbformat_minor": 5
}
